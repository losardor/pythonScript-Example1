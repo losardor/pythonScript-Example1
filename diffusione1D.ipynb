{
 "cells": [
  {
   "cell_type": "code",
   "execution_count": 2,
   "metadata": {
    "collapsed": true
   },
   "outputs": [],
   "source": [
    "from fipy import *"
   ]
  },
  {
   "cell_type": "code",
   "execution_count": 3,
   "metadata": {
    "collapsed": true
   },
   "outputs": [],
   "source": [
    "nx=50\n",
    "dx=1\n",
    "mesh = Grid1D(nx=nx, dx=dx)"
   ]
  },
  {
   "cell_type": "code",
   "execution_count": 4,
   "metadata": {
    "collapsed": false
   },
   "outputs": [],
   "source": [
    "phi = CellVariable(name=\"Solution variable\", mesh=mesh, value=0.)"
   ]
  },
  {
   "cell_type": "code",
   "execution_count": 5,
   "metadata": {
    "collapsed": true
   },
   "outputs": [],
   "source": [
    "D=1\n",
    "valueLeft=0\n",
    "valueRight=0\n",
    "phi.constrain(valueLeft,mesh.facesLeft)\n",
    "phi.constrain(valueRight,mesh.facesRight)\n",
    "eqX=TransientTerm()==ExplicitDiffusionTerm(coeff = D)"
   ]
  },
  {
   "cell_type": "code",
   "execution_count": 6,
   "metadata": {
    "collapsed": false
   },
   "outputs": [],
   "source": [
    "TimeStepDuration = 0.9 * dx**2/(2*D)\n",
    "steps = 100"
   ]
  },
  {
   "cell_type": "code",
   "execution_count": 7,
   "metadata": {
    "collapsed": true
   },
   "outputs": [],
   "source": [
    "phiAnalytical = CellVariable(name=\"analytical value\", mesh=mesh)"
   ]
  },
  {
   "cell_type": "code",
   "execution_count": null,
   "metadata": {
    "collapsed": true
   },
   "outputs": [],
   "source": []
  },
  {
   "cell_type": "code",
   "execution_count": 8,
   "metadata": {
    "collapsed": false
   },
   "outputs": [],
   "source": [
    "if __name__ == '__main__' :\n",
    "    viewer = Viewer(vars=(phi, phiAnalytical), datamin=0., datamax=1.)\n",
    "    viewer.plot()"
   ]
  },
  {
   "cell_type": "code",
   "execution_count": 9,
   "metadata": {
    "collapsed": false
   },
   "outputs": [],
   "source": [
    "x = mesh.cellCenters[0]\n",
    "t = TimeStepDuration * steps"
   ]
  },
  {
   "cell_type": "code",
   "execution_count": 10,
   "metadata": {
    "collapsed": false
   },
   "outputs": [],
   "source": [
    "try:\n",
    "    from scipy.special import erf \n",
    "    phiAnalytical.setValue(1 - erf(x / (2 * numerix.sqrt(D * t)))) \n",
    "except ImportError:\n",
    "    print \"The SciPy library is not available to test the solution to \\\n",
    "    the transient diffusion equation\""
   ]
  },
  {
   "cell_type": "code",
   "execution_count": 11,
   "metadata": {
    "collapsed": false
   },
   "outputs": [
    {
     "name": "stderr",
     "output_type": "stream",
     "text": [
      "/Users/ruggierolosardo/anaconda/lib/python2.7/site-packages/fipy/solvers/scipy/linearLUSolver.py:71: RuntimeWarning: invalid value encountered in double_scalars\n",
      "  if (numerix.sqrt(numerix.sum(errorVector**2)) / error0)  <= self.tolerance:\n"
     ]
    }
   ],
   "source": [
    "for step in range(steps):\n",
    "    eqX.solve(var=phi, dt=TimeStepDuration)\n",
    "    if __name__ == '__main__' :\n",
    "        viewer.plot()"
   ]
  },
  {
   "cell_type": "code",
   "execution_count": 13,
   "metadata": {
    "collapsed": false
   },
   "outputs": [
    {
     "ename": "NameError",
     "evalue": "name '___name__' is not defined",
     "output_type": "error",
     "traceback": [
      "\u001b[0;31m---------------------------------------------------------------------------\u001b[0m",
      "\u001b[0;31mNameError\u001b[0m                                 Traceback (most recent call last)",
      "\u001b[0;32m<ipython-input-13-e71a5b38e903>\u001b[0m in \u001b[0;36m<module>\u001b[0;34m()\u001b[0m\n\u001b[0;32m----> 1\u001b[0;31m \u001b[0;32mif\u001b[0m \u001b[0m___name__\u001b[0m \u001b[0;34m==\u001b[0m \u001b[0;34m'__main__'\u001b[0m \u001b[0;34m:\u001b[0m\u001b[0;34m\u001b[0m\u001b[0m\n\u001b[0m\u001b[1;32m      2\u001b[0m     \u001b[0;32mprint\u001b[0m \u001b[0mphi\u001b[0m\u001b[0;34m.\u001b[0m\u001b[0mallclose\u001b[0m\u001b[0;34m(\u001b[0m\u001b[0mphiAnalytical\u001b[0m\u001b[0;34m,\u001b[0m \u001b[0matol\u001b[0m \u001b[0;34m=\u001b[0m \u001b[0;36m7e-4\u001b[0m\u001b[0;34m)\u001b[0m\u001b[0;34m\u001b[0m\u001b[0m\n",
      "\u001b[0;31mNameError\u001b[0m: name '___name__' is not defined"
     ]
    }
   ],
   "source": [
    "if ___name__ == '__main__' :\n",
    "    print phi.allclose(phiAnalytical, atol = 7e-4) "
   ]
  },
  {
   "cell_type": "code",
   "execution_count": 14,
   "metadata": {
    "collapsed": false
   },
   "outputs": [
    {
     "name": "stdout",
     "output_type": "stream",
     "text": [
      "Explicit transient diffusion. Press <return> to proceed...\n"
     ]
    },
    {
     "data": {
      "text/plain": [
       "''"
      ]
     },
     "execution_count": 14,
     "metadata": {},
     "output_type": "execute_result"
    }
   ],
   "source": [
    "raw_input(\"Explicit transient diffusion. Press <return> to proceed...\")"
   ]
  },
  {
   "cell_type": "code",
   "execution_count": 15,
   "metadata": {
    "collapsed": true
   },
   "outputs": [],
   "source": [
    "eqI = TransientTerm() == DiffusionTerm(coeff=D)"
   ]
  },
  {
   "cell_type": "code",
   "execution_count": 16,
   "metadata": {
    "collapsed": true
   },
   "outputs": [],
   "source": [
    "phi.setValue(valueRight)"
   ]
  },
  {
   "cell_type": "code",
   "execution_count": 17,
   "metadata": {
    "collapsed": false
   },
   "outputs": [],
   "source": [
    "TimeStepDuration*=10\n",
    "steps//=10\n",
    "for step in range(steps):\n",
    "    eqI.solve(var=phi, dt=TimeStepDuration)\n",
    "    if __name__=='__main__' :\n",
    "        viewer.plot()"
   ]
  },
  {
   "cell_type": "code",
   "execution_count": 18,
   "metadata": {
    "collapsed": false
   },
   "outputs": [
    {
     "name": "stdout",
     "output_type": "stream",
     "text": [
      "False\n"
     ]
    },
    {
     "data": {
      "text/plain": [
       "1"
      ]
     },
     "execution_count": 18,
     "metadata": {},
     "output_type": "execute_result"
    }
   ],
   "source": [
    "print phi.allclose(phiAnalytical, atol = 2e-2)\n",
    "1"
   ]
  },
  {
   "cell_type": "code",
   "execution_count": 19,
   "metadata": {
    "collapsed": false
   },
   "outputs": [
    {
     "name": "stdout",
     "output_type": "stream",
     "text": [
      "Implicit transient diffusion. Press <return> to proceed...\n"
     ]
    }
   ],
   "source": [
    "if __name__ == '__main__' :\n",
    "    raw_input(\"Implicit transient diffusion. Press <return> to proceed...\")"
   ]
  },
  {
   "cell_type": "code",
   "execution_count": 20,
   "metadata": {
    "collapsed": false
   },
   "outputs": [],
   "source": [
    "eqCN=eqX + eqI"
   ]
  },
  {
   "cell_type": "code",
   "execution_count": 23,
   "metadata": {
    "collapsed": false
   },
   "outputs": [
    {
     "name": "stdout",
     "output_type": "stream",
     "text": [
      "False\n",
      "Crank-Nicholson transient diffusion. Press <return> to proceed...\n"
     ]
    }
   ],
   "source": [
    "phi.setValue(valueRight)\n",
    "for step in range(steps):\n",
    "    eqCN.solve(var=phi, dt=TimeStepDuration)\n",
    "    if __name__ == '__main__' :\n",
    "        viewer.plot()\n",
    "    eqI.solve(var=phi, dt=TimeStepDuration)\n",
    "    if __name__ == '__main__' :\n",
    "        viewer.plot()\n",
    "    eqX.solve(var=phi, dt=TimeStepDuration)\n",
    "    if __name__ == '__main__' :\n",
    "        viewer.plot()\n",
    "print phi.allclose(phiAnalytical, atol = 3e-3)\n",
    "1\n",
    "if __name__ == '__main__' :\n",
    "    raw_input(\"Crank-Nicholson transient diffusion. Press <return> to proceed...\")"
   ]
  },
  {
   "cell_type": "code",
   "execution_count": null,
   "metadata": {
    "collapsed": true
   },
   "outputs": [],
   "source": []
  }
 ],
 "metadata": {
  "kernelspec": {
   "display_name": "Python 2",
   "language": "python",
   "name": "python2"
  },
  "language_info": {
   "codemirror_mode": {
    "name": "ipython",
    "version": 2
   },
   "file_extension": ".py",
   "mimetype": "text/x-python",
   "name": "python",
   "nbconvert_exporter": "python",
   "pygments_lexer": "ipython2",
   "version": "2.7.11"
  }
 },
 "nbformat": 4,
 "nbformat_minor": 0
}
