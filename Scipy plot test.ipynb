{
 "cells": [
  {
   "cell_type": "code",
   "execution_count": 1,
   "metadata": {
    "collapsed": false
   },
   "outputs": [
    {
     "name": "stderr",
     "output_type": "stream",
     "text": [
      "usage: Automatically created module for IPython interactive environment\n",
      "__main__.py: error: unrecognized arguments: -f /Users/ruggierolosardo/Library/Jupyter/runtime/kernel-0fe04545-083b-4fc1-a44a-8e5b2c955e0e.json\n"
     ]
    },
    {
     "ename": "SystemExit",
     "evalue": "2",
     "output_type": "error",
     "traceback": [
      "An exception has occurred, use %tb to see the full traceback.\n",
      "\u001b[0;31mSystemExit\u001b[0m\u001b[0;31m:\u001b[0m 2\n"
     ]
    },
    {
     "name": "stderr",
     "output_type": "stream",
     "text": [
      "To exit: use 'exit', 'quit', or Ctrl-D.\n"
     ]
    }
   ],
   "source": [
    "import argparse\n",
    "\n",
    "import numpy as np\n",
    "from scipy import special, optimize\n",
    "import matplotlib.pyplot as plt\n",
    "\n",
    "def main():\n",
    "    # Parse command-line arguments\n",
    "    parser = argparse.ArgumentParser(usage=__doc__)\n",
    "    parser.add_argument(\"--order\", type=int, default=3, help=\"order of Bessel function\")\n",
    "    parser.add_argument(\"--output\", default=\"plot.png\", help=\"output image file\")\n",
    "    args = parser.parse_args()\n",
    "\n",
    "    # Compute maximum\n",
    "    f = lambda x: -special.jv(args.order, x)\n",
    "    sol = optimize.minimize(f, 1.0)\n",
    "\n",
    "    # Plot\n",
    "    x = np.linspace(0, 10, 5000)\n",
    "    plt.plot(x, special.jv(args.order, x), '-', sol.x, -sol.fun, 'o')\n",
    "\n",
    "    # Produce output\n",
    "    plt.savefig(args.output, dpi=96)\n",
    "\n",
    "if __name__ == \"__main__\":\n",
    "    main()"
   ]
  },
  {
   "cell_type": "code",
   "execution_count": null,
   "metadata": {
    "collapsed": true
   },
   "outputs": [],
   "source": []
  }
 ],
 "metadata": {
  "kernelspec": {
   "display_name": "Python 2",
   "language": "python",
   "name": "python2"
  },
  "language_info": {
   "codemirror_mode": {
    "name": "ipython",
    "version": 2
   },
   "file_extension": ".py",
   "mimetype": "text/x-python",
   "name": "python",
   "nbconvert_exporter": "python",
   "pygments_lexer": "ipython2",
   "version": "2.7.11"
  }
 },
 "nbformat": 4,
 "nbformat_minor": 0
}
